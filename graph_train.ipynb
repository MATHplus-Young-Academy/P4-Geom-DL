{
 "cells": [
  {
   "cell_type": "code",
   "execution_count": 2,
   "id": "82bc774b-308e-4131-88a8-cb4e705f1a98",
   "metadata": {},
   "outputs": [
    {
     "data": {
      "text/plain": [
       "<module 'util' from '/home/jovyan/P4-Geom-DL/util.py'>"
      ]
     },
     "execution_count": 2,
     "metadata": {},
     "output_type": "execute_result"
    }
   ],
   "source": [
    "from importlib import reload\n",
    "from pprint import pprint\n",
    "import util\n",
    "reload(util)\n",
    "#pprint(util.get_labels('Bohunician'))\n",
    "#pprint(util.label_to_filename_map('Bohunician'))\n",
    "#pprint(util.label_to_poi_map('Bohunician'))\n",
    "#pprint(util.label_to_data_object_map('Bohunician'))\n"
   ]
  },
  {
   "cell_type": "code",
   "execution_count": 15,
   "id": "e991585f-576e-4a9f-851c-a8fd1f509d83",
   "metadata": {},
   "outputs": [
    {
     "name": "stdout",
     "output_type": "stream",
     "text": [
      "tensor([-34.4551,  39.0491, -25.5005,  -7.3665,  47.3551, -15.1007,   0.9768,\n",
      "         -0.3453,   0.5968,  -8.4983,   1.1388,  -3.2504])\n"
     ]
    },
    {
     "ename": "AttributeError",
     "evalue": "'list' object has no attribute 'flatten'",
     "output_type": "error",
     "traceback": [
      "\u001b[0;31m---------------------------------------------------------------------------\u001b[0m",
      "\u001b[0;31mAttributeError\u001b[0m                            Traceback (most recent call last)",
      "Input \u001b[0;32mIn [15]\u001b[0m, in \u001b[0;36m<module>\u001b[0;34m\u001b[0m\n\u001b[1;32m      8\u001b[0m optim \u001b[38;5;241m=\u001b[39m torch\u001b[38;5;241m.\u001b[39moptim\u001b[38;5;241m.\u001b[39mAdam(model\u001b[38;5;241m.\u001b[39mparameters(), lr\u001b[38;5;241m=\u001b[39m\u001b[38;5;241m0.01\u001b[39m)\n\u001b[1;32m      9\u001b[0m loss_fn \u001b[38;5;241m=\u001b[39m torch\u001b[38;5;241m.\u001b[39mnn\u001b[38;5;241m.\u001b[39mNLLLoss()\n\u001b[0;32m---> 11\u001b[0m \u001b[43mgraph_nn\u001b[49m\u001b[38;5;241;43m.\u001b[39;49m\u001b[43mtrain_loop\u001b[49m\u001b[43m(\u001b[49m\u001b[43mdataloader\u001b[49m\u001b[43m,\u001b[49m\u001b[43m \u001b[49m\u001b[43mmodel\u001b[49m\u001b[43m,\u001b[49m\u001b[43m \u001b[49m\u001b[43moptim\u001b[49m\u001b[43m,\u001b[49m\u001b[43m \u001b[49m\u001b[43mloss_fn\u001b[49m\u001b[43m)\u001b[49m\n",
      "File \u001b[0;32m~/P4-Geom-DL/graph_nn.py:27\u001b[0m, in \u001b[0;36mtrain_loop\u001b[0;34m(dataloader, model, optim, loss_fn)\u001b[0m\n\u001b[1;32m     25\u001b[0m pred \u001b[38;5;241m=\u001b[39m [torch\u001b[38;5;241m.\u001b[39mmean(x[a:b,:], axis\u001b[38;5;241m=\u001b[39m\u001b[38;5;241m0\u001b[39m) \u001b[38;5;28;01mfor\u001b[39;00m (a,b) \u001b[38;5;129;01min\u001b[39;00m \u001b[38;5;28mzip\u001b[39m(batch\u001b[38;5;241m.\u001b[39mptr[:\u001b[38;5;241m-\u001b[39m\u001b[38;5;241m1\u001b[39m], batch\u001b[38;5;241m.\u001b[39mptr[\u001b[38;5;241m1\u001b[39m:])]\n\u001b[1;32m     26\u001b[0m \u001b[38;5;28mprint\u001b[39m(batch\u001b[38;5;241m.\u001b[39my)\n\u001b[0;32m---> 27\u001b[0m loss \u001b[38;5;241m=\u001b[39m loss_fn(\u001b[43mpred\u001b[49m\u001b[38;5;241;43m.\u001b[39;49m\u001b[43mflatten\u001b[49m(), batch\u001b[38;5;241m.\u001b[39my)\n\u001b[1;32m     29\u001b[0m optim\u001b[38;5;241m.\u001b[39mzero_grad()\n\u001b[1;32m     30\u001b[0m loss\u001b[38;5;241m.\u001b[39mbackward()\n",
      "\u001b[0;31mAttributeError\u001b[0m: 'list' object has no attribute 'flatten'"
     ]
    }
   ],
   "source": [
    "import torch\n",
    "import graph_nn\n",
    "import torch_geometric as pyg\n",
    "reload(graph_nn)\n",
    "\n",
    "dataloader = util.get_dataloader('Bohunician', batch_size=4, shuffle=True)\n",
    "model = graph_nn.GNN(in_dim)\n",
    "optim = torch.optim.Adam(model.parameters(), lr=0.01)\n",
    "loss_fn = torch.nn.NLLLoss()\n",
    "\n",
    "graph_nn.train_loop(dataloader, model, optim, loss_fn)"
   ]
  },
  {
   "cell_type": "code",
   "execution_count": 31,
   "id": "1f7cb840-bd0b-4480-9500-c9210e22e5c7",
   "metadata": {},
   "outputs": [
    {
     "data": {
      "application/vnd.jupyter.widget-view+json": {
       "model_id": "0c4e58a494194ae48dda2c971f8dd6cd",
       "version_major": 2,
       "version_minor": 0
      },
      "text/plain": [
       "  0%|          | 0/50 [00:00<?, ?it/s]"
      ]
     },
     "metadata": {},
     "output_type": "display_data"
    }
   ],
   "source": [
    "from importlib import reload\n",
    "from pprint import pprint\n",
    "from torch_geometric.loader import DataLoader\n",
    "from torchinfo import summary\n",
    "import torch\n",
    "import util\n",
    "from tqdm.notebook import tqdm\n",
    "import graph_nn\n",
    "reload(util)\n",
    "reload(graph_nn)\n",
    "cones, apex = util.generate_cone_meshes(101)\n",
    "datas = util.generate_cone_data_objects(101)\n",
    "\n",
    "dataloader = DataLoader(datas[:-1], batch_size=5, shuffle=True)\n",
    "model = graph_nn.GNN(in_dim=5, out_dim=1)\n",
    "loss = torch.nn.KLDivLoss()\n",
    "optim = torch.optim.Adam(model.parameters(), lr=1e-3)\n",
    "epochs = 50\n",
    "\n",
    "#print(summary(model))\n",
    "dumb_prediction = model(datas[-1]).detach().numpy()\n",
    "model.train()\n",
    "with tqdm(range(epochs), leave=True) as pbar:\n",
    "    for _ in pbar:\n",
    "        e_loss = graph_nn.train_loop(dataloader, model, optim, loss)\n",
    "        pbar.set_postfix(loss=f'{e_loss:.10}')"
   ]
  },
  {
   "cell_type": "code",
   "execution_count": 21,
   "id": "4a55a79b-3f7a-44ac-8bea-a355d1bec5c1",
   "metadata": {},
   "outputs": [
    {
     "data": {
      "application/vnd.jupyter.widget-view+json": {
       "model_id": "a3f3251fe8174778bcc4ca6dbecc4bb0",
       "version_major": 2,
       "version_minor": 0
      },
      "text/plain": [
       "Scene(background_color='#4c4c4c', camera={'position': [0.635840399668632, 0.6308750943402629, 0.63584039966863…"
      ]
     },
     "metadata": {},
     "output_type": "display_data"
    }
   ],
   "source": [
    "import pyvista as pv\n",
    "\n",
    "plt = pv.Plotter()\n",
    "plt.add_mesh(cones[-1], scalars=dumb_prediction)\n",
    "plt.add_mesh(pv.Sphere(center=apex[-1], radius=0.01))\n",
    "plt.show(jupyter_backend='ipygany', return_viewer=True)"
   ]
  },
  {
   "cell_type": "code",
   "execution_count": 7,
   "id": "96fcde84-e77d-4510-8e88-f1d3fb45d57d",
   "metadata": {},
   "outputs": [
    {
     "ename": "AttributeError",
     "evalue": "\nThis plotter has not yet been setup and rendered with ``show()``.\nConsider setting ``off_screen=True`` for off screen rendering.\n",
     "output_type": "error",
     "traceback": [
      "\u001b[0;31m---------------------------------------------------------------------------\u001b[0m",
      "\u001b[0;31mAttributeError\u001b[0m                            Traceback (most recent call last)",
      "Input \u001b[0;32mIn [7]\u001b[0m, in \u001b[0;36m<module>\u001b[0;34m\u001b[0m\n\u001b[0;32m----> 1\u001b[0m \u001b[43mplt\u001b[49m\u001b[38;5;241;43m.\u001b[39;49m\u001b[43mscreenshot\u001b[49m\u001b[43m(\u001b[49m\u001b[38;5;124;43m'\u001b[39;49m\u001b[38;5;124;43mdumb_prediction.png\u001b[39;49m\u001b[38;5;124;43m'\u001b[39;49m\u001b[43m)\u001b[49m\n",
      "File \u001b[0;32m/opt/conda/lib/python3.9/site-packages/pyvista/plotting/plotting.py:3924\u001b[0m, in \u001b[0;36mBasePlotter.screenshot\u001b[0;34m(self, filename, transparent_background, return_img, window_size)\u001b[0m\n\u001b[1;32m   3921\u001b[0m     \u001b[38;5;28mself\u001b[39m\u001b[38;5;241m.\u001b[39m_on_first_render_request()\n\u001b[1;32m   3922\u001b[0m     \u001b[38;5;28mself\u001b[39m\u001b[38;5;241m.\u001b[39mrender()\n\u001b[0;32m-> 3924\u001b[0m \u001b[38;5;28;01mreturn\u001b[39;00m \u001b[38;5;28mself\u001b[39m\u001b[38;5;241m.\u001b[39m_save_image(\u001b[38;5;28;43mself\u001b[39;49m\u001b[38;5;241;43m.\u001b[39;49m\u001b[43mimage\u001b[49m, filename, return_img)\n",
      "File \u001b[0;32m/opt/conda/lib/python3.9/site-packages/pyvista/plotting/plotting.py:1207\u001b[0m, in \u001b[0;36mBasePlotter.image\u001b[0;34m(self)\u001b[0m\n\u001b[1;32m   1204\u001b[0m \u001b[38;5;28;01mif\u001b[39;00m \u001b[38;5;129;01mnot\u001b[39;00m \u001b[38;5;28mhasattr\u001b[39m(\u001b[38;5;28mself\u001b[39m, \u001b[38;5;124m'\u001b[39m\u001b[38;5;124mren_win\u001b[39m\u001b[38;5;124m'\u001b[39m) \u001b[38;5;129;01mand\u001b[39;00m \u001b[38;5;28mself\u001b[39m\u001b[38;5;241m.\u001b[39mlast_image \u001b[38;5;129;01mis\u001b[39;00m \u001b[38;5;129;01mnot\u001b[39;00m \u001b[38;5;28;01mNone\u001b[39;00m:\n\u001b[1;32m   1205\u001b[0m     \u001b[38;5;28;01mreturn\u001b[39;00m \u001b[38;5;28mself\u001b[39m\u001b[38;5;241m.\u001b[39mlast_image\n\u001b[0;32m-> 1207\u001b[0m \u001b[38;5;28;43mself\u001b[39;49m\u001b[38;5;241;43m.\u001b[39;49m\u001b[43m_check_rendered\u001b[49m\u001b[43m(\u001b[49m\u001b[43m)\u001b[49m\n\u001b[1;32m   1208\u001b[0m \u001b[38;5;28mself\u001b[39m\u001b[38;5;241m.\u001b[39m_check_has_ren_win()\n\u001b[1;32m   1210\u001b[0m data \u001b[38;5;241m=\u001b[39m image_from_window(\u001b[38;5;28mself\u001b[39m\u001b[38;5;241m.\u001b[39mren_win)\n",
      "File \u001b[0;32m/opt/conda/lib/python3.9/site-packages/pyvista/plotting/plotting.py:1184\u001b[0m, in \u001b[0;36mBasePlotter._check_rendered\u001b[0;34m(self)\u001b[0m\n\u001b[1;32m   1182\u001b[0m \u001b[38;5;124;03m\"\"\"Check if the render window has been shown and raise an exception if not.\"\"\"\u001b[39;00m\n\u001b[1;32m   1183\u001b[0m \u001b[38;5;28;01mif\u001b[39;00m \u001b[38;5;129;01mnot\u001b[39;00m \u001b[38;5;28mself\u001b[39m\u001b[38;5;241m.\u001b[39m_rendered:\n\u001b[0;32m-> 1184\u001b[0m     \u001b[38;5;28;01mraise\u001b[39;00m \u001b[38;5;167;01mAttributeError\u001b[39;00m(\u001b[38;5;124m'\u001b[39m\u001b[38;5;130;01m\\n\u001b[39;00m\u001b[38;5;124mThis plotter has not yet been setup and rendered \u001b[39m\u001b[38;5;124m'\u001b[39m\n\u001b[1;32m   1185\u001b[0m                          \u001b[38;5;124m'\u001b[39m\u001b[38;5;124mwith ``show()``.\u001b[39m\u001b[38;5;130;01m\\n\u001b[39;00m\u001b[38;5;124m'\u001b[39m\n\u001b[1;32m   1186\u001b[0m                          \u001b[38;5;124m'\u001b[39m\u001b[38;5;124mConsider setting ``off_screen=True`` \u001b[39m\u001b[38;5;124m'\u001b[39m\n\u001b[1;32m   1187\u001b[0m                          \u001b[38;5;124m'\u001b[39m\u001b[38;5;124mfor off screen rendering.\u001b[39m\u001b[38;5;130;01m\\n\u001b[39;00m\u001b[38;5;124m'\u001b[39m)\n",
      "\u001b[0;31mAttributeError\u001b[0m: \nThis plotter has not yet been setup and rendered with ``show()``.\nConsider setting ``off_screen=True`` for off screen rendering.\n"
     ]
    }
   ],
   "source": []
  },
  {
   "cell_type": "code",
   "execution_count": 32,
   "id": "8192f803-2e8b-4d43-9bbd-95264f514df8",
   "metadata": {},
   "outputs": [
    {
     "data": {
      "application/vnd.jupyter.widget-view+json": {
       "model_id": "cb7fde32f5b64d0d92e1a5d312105309",
       "version_major": 2,
       "version_minor": 0
      },
      "text/plain": [
       "Scene(background_color='#4c4c4c', camera={'position': [0.635840399668632, 0.6308750943402629, 0.63584039966863…"
      ]
     },
     "metadata": {},
     "output_type": "display_data"
    }
   ],
   "source": [
    "model.eval()\n",
    "\n",
    "plt = pv.Plotter()\n",
    "plt.add_mesh(cones[-1], scalars=model(datas[-1]).detach().numpy())\n",
    "plt.add_mesh(pv.Sphere(center=apex[-1], radius=0.01))\n",
    "plt.show(jupyter_backend='ipygany', return_viewer=True)"
   ]
  },
  {
   "cell_type": "code",
   "execution_count": null,
   "id": "3a5be856-2f18-4e34-a9f0-13e35503652b",
   "metadata": {},
   "outputs": [],
   "source": []
  },
  {
   "cell_type": "code",
   "execution_count": null,
   "id": "44aea174-c06a-4f68-b234-84d73b226f7f",
   "metadata": {},
   "outputs": [],
   "source": []
  }
 ],
 "metadata": {
  "kernelspec": {
   "display_name": "Python 3 (ipykernel)",
   "language": "python",
   "name": "python3"
  },
  "language_info": {
   "codemirror_mode": {
    "name": "ipython",
    "version": 3
   },
   "file_extension": ".py",
   "mimetype": "text/x-python",
   "name": "python",
   "nbconvert_exporter": "python",
   "pygments_lexer": "ipython3",
   "version": "3.9.10"
  }
 },
 "nbformat": 4,
 "nbformat_minor": 5
}
