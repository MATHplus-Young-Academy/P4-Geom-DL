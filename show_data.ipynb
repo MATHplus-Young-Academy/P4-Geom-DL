{
 "cells": [
  {
   "cell_type": "code",
   "execution_count": null,
   "metadata": {},
   "outputs": [],
   "source": [
    "# paths to data directories\n",
    "ply_path = './3DModels_plys/Bohunician_plys/'\n",
    "POI_file = './POIs_csv/Bohunician_POIs_Point.csv'"
   ]
  },
  {
   "cell_type": "markdown",
   "metadata": {},
   "source": [
    "## Load flake surfaces and points of impact"
   ]
  },
  {
   "cell_type": "code",
   "execution_count": null,
   "metadata": {
    "pycharm": {
     "name": "#%%\n"
    }
   },
   "outputs": [],
   "source": [
    "import numpy as np\n",
    "import pyvista as pv\n",
    "import csv\n",
    "import re\n",
    "\n",
    "# read labels and POIs\n",
    "with open(POI_file) as f:\n",
    "    sheet = list( csv.reader(f) )\n",
    "labels = [re.split(r'_|-|\\s', ln[1])[0] for ln in sheet[1:]]\n",
    "POI = np.array(sheet[1:])[:,2:5].astype(float)\n",
    "\n",
    "# read meshes\n",
    "meshes = [pv.read(f'{ply_path}/{l}.ply') for l in labels]"
   ]
  },
  {
   "cell_type": "markdown",
   "metadata": {
    "pycharm": {
     "name": "#%% raw\n"
    }
   },
   "source": [
    "## Show interactive visualization"
   ]
  },
  {
   "cell_type": "code",
   "execution_count": null,
   "metadata": {
    "pycharm": {
     "name": "#%%\n"
    }
   },
   "outputs": [],
   "source": [
    "from ipywidgets import interact\n",
    "\n",
    "@interact\n",
    "def plot(i=(0,len(meshes),1)):\n",
    "    pl = pv.Plotter(notebook=True)\n",
    "    pl.add_mesh(meshes[i], name=labels[i])\n",
    "    pl.add_mesh(pv.Sphere(center=POI[i]))\n",
    "    return pl.show(jupyter_backend='ipygany', return_viewer=True)"
   ]
  }
 ],
 "metadata": {
  "kernelspec": {
   "display_name": "Python 3 (ipykernel)",
   "language": "python",
   "name": "python3"
  },
  "language_info": {
   "codemirror_mode": {
    "name": "ipython",
    "version": 3
   },
   "file_extension": ".py",
   "mimetype": "text/x-python",
   "name": "python",
   "nbconvert_exporter": "python",
   "pygments_lexer": "ipython3",
   "version": "3.9.7"
  }
 },
 "nbformat": 4,
 "nbformat_minor": 1
}