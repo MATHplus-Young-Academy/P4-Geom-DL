{
 "cells": [
  {
   "cell_type": "code",
   "execution_count": 7,
   "metadata": {},
   "outputs": [],
   "source": [
    "# paths to data directories\n",
    "ply_path = '/mnt/materials/SIRF/MathPlusBerlin/DATA/LihicFlakesPOI/3DModels_plys/Bohunician_plys/'\n",
    "POI_file = '/mnt/materials/SIRF/MathPlusBerlin/DATA/LihicFlakesPOI/POIs_csv/Bohunician_POIs_Point.csv'"
   ]
  },
  {
   "cell_type": "markdown",
   "metadata": {},
   "source": [
    "## Load flake surfaces and points of impact"
   ]
  },
  {
   "cell_type": "code",
   "execution_count": null,
   "metadata": {
    "pycharm": {
     "name": "#%%\n"
    }
   },
   "outputs": [],
   "source": [
    "import numpy as np\n",
    "import pyvista as pv\n",
    "import csv\n",
    "import re\n",
    "\n",
    "# read labels and POIs\n",
    "with open(POI_file) as f:\n",
    "    sheet = list( csv.reader(f) )\n",
    "labels = [re.split(r'_|-|\\s', ln[1])[0] for ln in sheet[1:]]\n",
    "POI = np.array(sheet[1:])[:,2:5].astype(float)\n",
    "\n",
    "# read meshes\n",
    "meshes = [pv.read(f'{ply_path}/{l}.ply') for l in labels]"
   ]
  },
  {
   "cell_type": "markdown",
   "metadata": {
    "pycharm": {
     "name": "#%% raw\n"
    }
   },
   "source": [
    "## Show interactive visualization"
   ]
  },
  {
   "cell_type": "code",
   "execution_count": 5,
   "metadata": {
    "pycharm": {
     "name": "#%%\n"
    }
   },
   "outputs": [
    {
     "ename": "NameError",
     "evalue": "name 'meshes' is not defined",
     "output_type": "error",
     "traceback": [
      "\u001b[0;31m---------------------------------------------------------------------------\u001b[0m",
      "\u001b[0;31mNameError\u001b[0m                                 Traceback (most recent call last)",
      "Input \u001b[0;32mIn [5]\u001b[0m, in \u001b[0;36m<module>\u001b[0;34m\u001b[0m\n\u001b[1;32m      1\u001b[0m \u001b[38;5;28;01mfrom\u001b[39;00m \u001b[38;5;21;01mipywidgets\u001b[39;00m \u001b[38;5;28;01mimport\u001b[39;00m interact\n\u001b[1;32m      3\u001b[0m \u001b[38;5;129m@interact\u001b[39m\n\u001b[0;32m----> 4\u001b[0m \u001b[38;5;28;01mdef\u001b[39;00m \u001b[38;5;21mplot\u001b[39m(i\u001b[38;5;241m=\u001b[39m(\u001b[38;5;241m0\u001b[39m,\u001b[38;5;28mlen\u001b[39m(\u001b[43mmeshes\u001b[49m),\u001b[38;5;241m1\u001b[39m)):\n\u001b[1;32m      5\u001b[0m     pl \u001b[38;5;241m=\u001b[39m pv\u001b[38;5;241m.\u001b[39mPlotter(notebook\u001b[38;5;241m=\u001b[39m\u001b[38;5;28;01mTrue\u001b[39;00m)\n\u001b[1;32m      6\u001b[0m     pl\u001b[38;5;241m.\u001b[39madd_mesh(meshes[i], name\u001b[38;5;241m=\u001b[39mlabels[i])\n",
      "\u001b[0;31mNameError\u001b[0m: name 'meshes' is not defined"
     ]
    }
   ],
   "source": [
    "from ipywidgets import interact\n",
    "\n",
    "@interact\n",
    "def plot(i=(0,len(meshes),1)):\n",
    "    pl = pv.Plotter(notebook=True)\n",
    "    pl.add_mesh(meshes[i], name=labels[i])\n",
    "    pl.add_mesh(pv.Sphere(center=POI[i]))\n",
    "    return pl.show(jupyter_backend='ipygany', return_viewer=True)"
   ]
  }
 ],
 "metadata": {
  "kernelspec": {
   "display_name": "Python 3 (ipykernel)",
   "language": "python",
   "name": "python3"
  },
  "language_info": {
   "codemirror_mode": {
    "name": "ipython",
    "version": 3
   },
   "file_extension": ".py",
   "mimetype": "text/x-python",
   "name": "python",
   "nbconvert_exporter": "python",
   "pygments_lexer": "ipython3",
   "version": "3.9.10"
  }
 },
 "nbformat": 4,
 "nbformat_minor": 4
}
