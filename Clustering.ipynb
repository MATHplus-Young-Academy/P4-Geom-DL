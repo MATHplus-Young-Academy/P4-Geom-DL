{
 "cells": [
  {
   "cell_type": "code",
   "execution_count": 1,
   "id": "e829d8c1-65f7-4081-a1d8-65fb8a3ea2a4",
   "metadata": {},
   "outputs": [],
   "source": [
    "# paths to data directories\n",
    "ply_path = '/mnt/materials/SIRF/MathPlusBerlin/DATA/LihicFlakesPOI/3DModels_plys/Bohunician_plys/'\n",
    "POI_file = '/mnt/materials/SIRF/MathPlusBerlin/DATA/LihicFlakesPOI/POIs_csv/Bohunician_POIs_Point.csv'"
   ]
  },
  {
   "cell_type": "code",
   "execution_count": 2,
   "id": "efef8a6f-65a7-487a-94bb-a332f05c1357",
   "metadata": {},
   "outputs": [],
   "source": [
    "import numpy as np\n",
    "import pyvista as pv\n",
    "import csv\n",
    "import re\n",
    "\n",
    "# read labels and POIs\n",
    "with open(POI_file) as f:\n",
    "    sheet = list( csv.reader(f) )\n",
    "labels = [re.split(r'_|-|\\s', ln[1])[0] for ln in sheet[1:]]\n",
    "POI = np.array(sheet[1:])[:,2:5].astype(float)\n",
    "\n",
    "# read meshes\n",
    "meshes = [pv.read(f'{ply_path}/{l}.ply') for l in labels]\n",
    "core = pv.read(f'{ply_path}/RemnantCore.ply')"
   ]
  },
  {
   "cell_type": "code",
   "execution_count": 3,
   "id": "c859321f-76cb-4f6a-bd6b-a0bde35372f2",
   "metadata": {},
   "outputs": [],
   "source": [
    "meshes[0].cell_centers()\n",
    "N = meshes[0].cell_normals\n",
    "P = meshes[0].cell_centers().points\n",
    "X = np.concatenate([P,N],1)"
   ]
  },
  {
   "cell_type": "code",
   "execution_count": 4,
   "id": "98ea8e7a-278c-481e-839d-f2ba9a7057f1",
   "metadata": {},
   "outputs": [],
   "source": [
    "from sklearn.cluster import KMeans\n",
    "num_labels=5\n",
    "kmeans = KMeans(n_clusters=num_labels).fit(N)"
   ]
  },
  {
   "cell_type": "code",
   "execution_count": 8,
   "id": "43213095-0b96-4f40-8f0c-0961281a7951",
   "metadata": {},
   "outputs": [],
   "source": [
    "A=meshes[0].extract_cells(kmeans.labels_==0)"
   ]
  },
  {
   "cell_type": "code",
   "execution_count": 12,
   "id": "25010482-9777-4f44-bfed-c4b09f849b5a",
   "metadata": {},
   "outputs": [
    {
     "data": {
      "text/html": [
       "<table><tr><th>Header</th><th>Data Arrays</th></tr><tr><td>\n",
       "<table>\n",
       "<tr><th>UnstructuredGrid</th><th>Information</th></tr>\n",
       "<tr><td>N Cells</td><td>22748</td></tr>\n",
       "<tr><td>N Points</td><td>11655</td></tr>\n",
       "<tr><td>X Bounds</td><td>-1.903e+01, -1.996e+00</td></tr>\n",
       "<tr><td>Y Bounds</td><td>-1.768e+00, 3.438e+01</td></tr>\n",
       "<tr><td>Z Bounds</td><td>-7.581e+00, 2.728e-01</td></tr>\n",
       "<tr><td>N Arrays</td><td>3</td></tr>\n",
       "</table>\n",
       "\n",
       "</td><td>\n",
       "<table>\n",
       "<tr><th>Name</th><th>Field</th><th>Type</th><th>N Comp</th><th>Min</th><th>Max</th></tr>\n",
       "<tr><td><b>RGB</b></td><td>Points</td><td>uint8</td><td>3</td><td>6.300e+01</td><td>1.860e+02</td></tr>\n",
       "<tr><td>vtkOriginalPointIds</td><td>Points</td><td>int64</td><td>1</td><td>0.000e+00</td><td>2.621e+04</td></tr>\n",
       "<tr><td>vtkOriginalCellIds</td><td>Cells</td><td>int64</td><td>1</td><td>0.000e+00</td><td>5.282e+04</td></tr>\n",
       "</table>\n",
       "\n",
       "</td></tr> </table>"
      ],
      "text/plain": [
       "UnstructuredGrid (0x7f04a63ba4c0)\n",
       "  N Cells:\t22748\n",
       "  N Points:\t11655\n",
       "  X Bounds:\t-1.903e+01, -1.996e+00\n",
       "  Y Bounds:\t-1.768e+00, 3.438e+01\n",
       "  Z Bounds:\t-7.581e+00, 2.728e-01\n",
       "  N Arrays:\t3"
      ]
     },
     "execution_count": 12,
     "metadata": {},
     "output_type": "execute_result"
    }
   ],
   "source": [
    "A"
   ]
  },
  {
   "cell_type": "code",
   "execution_count": 34,
   "id": "1a9276f7-5249-4487-bde7-347de6129e5b",
   "metadata": {},
   "outputs": [
    {
     "data": {
      "application/vnd.jupyter.widget-view+json": {
       "model_id": "61837fed8b9c4a99854d61f537a2dc30",
       "version_major": 2,
       "version_minor": 0
      },
      "text/plain": [
       "Scene(background_color='#4c4c4c', camera={'position': [12.674508693280295, 39.205477597775534, 20.313203635277…"
      ]
     },
     "metadata": {},
     "output_type": "display_data"
    }
   ],
   "source": [
    "colors=np.array(['lavender','lime', 'red','yellow','teal', 'green','blue'])\n",
    "\n",
    "\n",
    "pl = pv.Plotter(notebook=True)\n",
    "pl.add_mesh(meshes[0])#,color=colors[i])\n",
    "pl = pv.Plotter(notebook=True)\n",
    "for i in range(num_labels):\n",
    "    pl.add_mesh(meshes[0].extract_cells(kmeans.labels_==i),color=colors[i])\n",
    "\n",
    "pl.show(jupyter_backend='ipygany', return_viewer=True)"
   ]
  }
 ],
 "metadata": {
  "kernelspec": {
   "display_name": "Python 3 (ipykernel)",
   "language": "python",
   "name": "python3"
  },
  "language_info": {
   "codemirror_mode": {
    "name": "ipython",
    "version": 3
   },
   "file_extension": ".py",
   "mimetype": "text/x-python",
   "name": "python",
   "nbconvert_exporter": "python",
   "pygments_lexer": "ipython3",
   "version": "3.9.10"
  }
 },
 "nbformat": 4,
 "nbformat_minor": 5
}
